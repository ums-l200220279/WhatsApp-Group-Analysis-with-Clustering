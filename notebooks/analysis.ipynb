{
 "cells": [
  {
   "cell_type": "code",
   "execution_count": null,
   "metadata": {},
   "outputs": [],
   "source": [
    "# Import library\n",
    "import pandas as pd\n",
    "import matplotlib.pyplot as plt\n",
    "from sklearn.preprocessing import StandardScaler\n",
    "from sklearn.cluster import KMeans\n",
    "\n",
    "# Membaca data\n",
    "data = pd.read_csv('D:/IPSD/WhatsApp-Group-Analysis-with-Clustering/data/data_group.csv')\n",
    "\n",
    "# Melakukan scaling pada kolom 'Score'\n",
    "scaler = StandardScaler()\n",
    "data['Score'] = scaler.fit_transform(data[['Score']])\n",
    "\n",
    "# Melakukan KMeans clustering\n",
    "kmeans = KMeans(n_clusters=3)\n",
    "data['Cluster'] = kmeans.fit_predict(data[['Age', 'Score']])\n",
    "\n",
    "# Visualisasi hasil clustering\n",
    "plt.scatter(data['Age'], data['Score'], c=data['Cluster'], cmap='viridis')\n",
    "plt.xlabel('Age')\n",
    "plt.ylabel('Score')\n",
    "plt.title('KMeans Clustering')\n",
    "plt.show()\n"
   ]
  }
 ],
 "metadata": {
  "language_info": {
   "name": "python"
  }
 },
 "nbformat": 4,
 "nbformat_minor": 2
}
